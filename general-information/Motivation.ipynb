from jupyterquiz import display_quiz

quiz = [
  {
    "question": "Which tool lets you add sliders in Jupyter Books?",
    "type": "multiple_choice",
    "options": [
      "ipywidgets",
      "JupyterQuiz",
      "Binder",
      "Sphinx"
    ],
    "answer": [0]
  }
]

display_quiz(quiz)
